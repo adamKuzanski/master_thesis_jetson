{
 "cells": [
  {
   "cell_type": "code",
   "execution_count": 1,
   "id": "436f158d",
   "metadata": {},
   "outputs": [
    {
     "name": "stdout",
     "output_type": "stream",
     "text": [
      "DONE\n"
     ]
    }
   ],
   "source": [
    "%matplotlib inline\n",
    "#The line above is necesary to show Matplotlib's plots inside a Jupyter Notebook\n",
    "import cv2\n",
    "import pafy\n",
    "from matplotlib import pyplot as plt\n",
    "from ultrafastLaneDetector import UltrafastLaneDetector, ModelType\n",
    "print(\"DONE\")"
   ]
  },
  {
   "cell_type": "code",
   "execution_count": 2,
   "id": "b0074225",
   "metadata": {},
   "outputs": [],
   "source": [
    "model_path = \"models/tusimple_18.pth\"\n",
    "model_type = ModelType.TUSIMPLE\n",
    "use_gpu = True"
   ]
  },
  {
   "cell_type": "code",
   "execution_count": 3,
   "id": "d1bc590b",
   "metadata": {},
   "outputs": [
    {
     "name": "stdout",
     "output_type": "stream",
     "text": [
      "[normal:mp4@640x360, normal:mp4@1280x720]\n",
      "VIDEO CAPTURED\n"
     ]
    }
   ],
   "source": [
    "videoUrl = 'https://youtu.be/2CIxM7x-Clc'\n",
    "videoPafy = pafy.new(videoUrl)\n",
    "print(videoPafy.streams)\n",
    "cap = cv2.VideoCapture(videoPafy.streams[-1].url)\n",
    "print(\"VIDEO CAPTURED\")"
   ]
  },
  {
   "cell_type": "code",
   "execution_count": 5,
   "id": "c711133b",
   "metadata": {},
   "outputs": [
    {
     "name": "stdout",
     "output_type": "stream",
     "text": [
      "model initialized\n"
     ]
    }
   ],
   "source": [
    "# Initialize lane detection model\n",
    "lane_detector = UltrafastLaneDetector(model_path, model_type, use_gpu)\n",
    "print(\"model initialized\")"
   ]
  },
  {
   "cell_type": "code",
   "execution_count": 6,
   "id": "f8f389cf",
   "metadata": {},
   "outputs": [
    {
     "name": "stderr",
     "output_type": "stream",
     "text": [
      "c:\\Users\\akuzansk\\OneDrive - Hexagon\\Desktop\\Praca\\magisterska\\ultrafastLaneDetector\\ultrafastLaneDetector.py:178: VisibleDeprecationWarning: Creating an ndarray from ragged nested sequences (which is a list-or-tuple of lists-or-tuples-or ndarrays with different lengths or shapes) is deprecated. If you meant to do this, you must specify 'dtype=object' when creating the ndarray.\n",
      "  return np.array(lanes_points), np.array(lanes_detected)\n"
     ]
    },
    {
     "name": "stdout",
     "output_type": "stream",
     "text": [
      "DONE\n"
     ]
    }
   ],
   "source": [
    "#from IPython.display import clear_output\n",
    "#plt.figure()\n",
    "\n",
    "fourcc = cv2.VideoWriter_fourcc(*'MP4V')\n",
    "out = cv2.VideoWriter('output.mp4', fourcc, 20.0, (1280,720))\n",
    "\n",
    "while cap.isOpened():\n",
    "    try:\n",
    "        # Read frame from the video\n",
    "        ret, frame = cap.read()\n",
    "    except:\n",
    "        continue\n",
    "\n",
    "    if ret:\t\n",
    "        # Detect the lanes\n",
    "        output_img = lane_detector.detect_lanes(frame)\n",
    "        out.write(output_img)\n",
    "        \n",
    "        #plt.imshow(output_img)\n",
    "        #plt.show()\n",
    "        #clear_output(wait=True)\n",
    "\n",
    "    else:\n",
    "        break\n",
    "        \n",
    "out.release()\n",
    "print(\"DONE\")"
   ]
  },
  {
   "cell_type": "code",
   "execution_count": 1,
   "id": "57fef4f5",
   "metadata": {},
   "outputs": [],
   "source": [
    "from IPython.display import Video\n",
    "Video(\"output.mp4\", embed=True)"
   ]
  },
  {
   "cell_type": "code",
   "execution_count": null,
   "id": "cf8bada7",
   "metadata": {},
   "outputs": [],
   "source": []
  },
  {
   "cell_type": "code",
   "execution_count": null,
   "id": "8d339e95",
   "metadata": {},
   "outputs": [],
   "source": []
  },
  {
   "cell_type": "code",
   "execution_count": null,
   "id": "f1671b6b",
   "metadata": {},
   "outputs": [],
   "source": []
  },
  {
   "cell_type": "code",
   "execution_count": null,
   "id": "44ccbb54",
   "metadata": {},
   "outputs": [],
   "source": []
  }
 ],
 "metadata": {
  "kernelspec": {
   "display_name": "MgrEnv",
   "language": "python",
   "name": "mgr"
  },
  "language_info": {
   "codemirror_mode": {
    "name": "ipython",
    "version": 3
   },
   "file_extension": ".py",
   "mimetype": "text/x-python",
   "name": "python",
   "nbconvert_exporter": "python",
   "pygments_lexer": "ipython3",
   "version": "3.8.10"
  },
  "vscode": {
   "interpreter": {
    "hash": "51a9845d6c4da4effd49869e9df339c75455e4869588cd1d5472ebe8cf72c6a2"
   }
  }
 },
 "nbformat": 4,
 "nbformat_minor": 5
}
